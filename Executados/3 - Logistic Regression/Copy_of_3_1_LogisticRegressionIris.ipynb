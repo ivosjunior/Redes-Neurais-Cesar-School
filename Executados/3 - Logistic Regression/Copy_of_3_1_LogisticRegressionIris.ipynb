{
  "cells": [
    {
      "cell_type": "markdown",
      "metadata": {
        "id": "wZfbOTOBOkgz"
      },
      "source": [
        "# Iris dataset - Regressão Logística - 3 classes"
      ]
    },
    {
      "cell_type": "markdown",
      "metadata": {
        "id": "uGD4tsGSOkg0"
      },
      "source": [
        "## Objetivos"
      ]
    },
    {
      "cell_type": "markdown",
      "metadata": {
        "id": "4NrY1Xm8Okg2"
      },
      "source": [
        "Este notebook ilustra o problema de classificação.\n",
        "\n",
        "O objetivo é classificar as amostras da Íris em 3 classes.\n",
        "- o alvo é o índice da classe: 0, 1 ou 2\n",
        "- função de perda é Entropia Cruzada\n",
        "- rede é uma camada densa linear com duas entradas e três saídas (n. de classes)"
      ]
    },
    {
      "cell_type": "markdown",
      "metadata": {
        "id": "oIibWckGOkg2"
      },
      "source": [
        "![alt text](https://raw.githubusercontent.com/vcasadei/images/master/RegressaoSoftmax_CrossEntropy_Otimizacao.png)"
      ]
    },
    {
      "cell_type": "markdown",
      "metadata": {
        "id": "KQfaLh-VOkg3"
      },
      "source": [
        "## Importação das bibliotecas"
      ]
    },
    {
      "cell_type": "code",
      "execution_count": null,
      "metadata": {
        "ExecuteTime": {
          "end_time": "2018-02-04T11:46:09.495857Z",
          "start_time": "2018-02-04T11:46:07.103819Z"
        },
        "id": "Glwg5sw8Okg4"
      },
      "outputs": [],
      "source": [
        "%matplotlib inline\n",
        "import os\n",
        "from sklearn.datasets import load_iris\n",
        "import numpy as np\n",
        "import matplotlib.pyplot as plt\n",
        "import pandas as pd\n",
        "\n",
        "import torch\n",
        "from torch.autograd import Variable\n",
        "import torch.nn as nn\n",
        "import torch.nn.functional as F\n",
        "\n",
        "from IPython import display"
      ]
    },
    {
      "cell_type": "markdown",
      "metadata": {
        "id": "8Ay5TuJFOkg8"
      },
      "source": [
        "## Dataset: Leitura, normalização e visualização dos dados"
      ]
    },
    {
      "cell_type": "code",
      "execution_count": null,
      "metadata": {
        "ExecuteTime": {
          "end_time": "2018-02-04T11:46:11.955381Z",
          "start_time": "2018-02-04T11:46:11.703390Z"
        },
        "id": "HDcff08yOkg9"
      },
      "outputs": [],
      "source": [
        "iris = load_iris()\n",
        "X = iris.data[:,::2]  # comprimento das sépalas e largura da sepala, indices 0 e 2\n",
        "# normalização\n",
        "Xc = X - X.min(axis=0)\n",
        "Xs = Xc.max(axis=0)\n",
        "Xc = Xc/Xs\n",
        "\n",
        "Y = iris.target\n",
        "colors = np.array(['r','y','b'])\n",
        "plt.scatter(Xc[:, 0], Xc[:, 1], c=colors[Y])\n",
        "plt.xlabel('Sepal length')\n",
        "plt.ylabel('Sepal width')\n",
        "plt.show()"
      ]
    },
    {
      "cell_type": "markdown",
      "metadata": {
        "id": "6Wo3laUYOkhD"
      },
      "source": [
        "### Prepara os dados para o PyTorch"
      ]
    },
    {
      "cell_type": "code",
      "execution_count": null,
      "metadata": {
        "ExecuteTime": {
          "end_time": "2018-02-04T11:46:13.313748Z",
          "start_time": "2018-02-04T11:46:13.309550Z"
        },
        "id": "uaCDAsKyOkhD"
      },
      "outputs": [],
      "source": [
        "X_tensor = torch.FloatTensor(Xc)  # Entrada é FloatTensor\n",
        "Y_tensor = torch.LongTensor(Y)    # Classe é LongTensor"
      ]
    },
    {
      "cell_type": "code",
      "execution_count": null,
      "metadata": {
        "id": "nqXzwFeJNYpQ"
      },
      "outputs": [],
      "source": [
        "Y_tensor"
      ]
    },
    {
      "cell_type": "code",
      "source": [
        "X_tensor"
      ],
      "metadata": {
        "id": "XKWLxeWa207B"
      },
      "execution_count": null,
      "outputs": []
    },
    {
      "cell_type": "markdown",
      "metadata": {
        "id": "6_0RFDv-OkhG"
      },
      "source": [
        "## Construindo o modelo da rede"
      ]
    },
    {
      "cell_type": "markdown",
      "metadata": {
        "id": "veKDdcEKOkhH"
      },
      "source": [
        "A saída da rede é composta por um neurônio para cada classe. A saída é denominada *scores* ou logitos:\n",
        "\n",
        "![alt text](https://raw.githubusercontent.com/vcasadei/images/master/RegressaoLogisticaRede_2_3.png)"
      ]
    },
    {
      "cell_type": "code",
      "execution_count": null,
      "metadata": {
        "ExecuteTime": {
          "end_time": "2018-02-04T11:46:15.448116Z",
          "start_time": "2018-02-04T11:46:15.443736Z"
        },
        "id": "DB6CnglJOkhI"
      },
      "outputs": [],
      "source": [
        "model = nn.Linear(2,3)  # 2 entradas e 3 saídas"
      ]
    },
    {
      "cell_type": "code",
      "execution_count": null,
      "metadata": {
        "id": "-KHsLTmYOkhL"
      },
      "outputs": [],
      "source": [
        "model.state_dict()"
      ]
    },
    {
      "cell_type": "markdown",
      "metadata": {
        "id": "arIc2kO1OkhW"
      },
      "source": [
        "### Fazendo um predict"
      ]
    },
    {
      "cell_type": "code",
      "execution_count": null,
      "metadata": {
        "ExecuteTime": {
          "end_time": "2018-02-04T11:46:17.414393Z",
          "start_time": "2018-02-04T11:46:17.340054Z"
        },
        "id": "8PcvgpEnOkhX"
      },
      "outputs": [],
      "source": [
        "out = model(Variable(X_tensor[:4,:])) # 4 amostras\n",
        "out"
      ]
    },
    {
      "cell_type": "code",
      "execution_count": null,
      "metadata": {
        "id": "nVWuAGOANyJl"
      },
      "outputs": [],
      "source": [
        "oo = F.softmax(out,dim=1)\n",
        "oo"
      ]
    },
    {
      "cell_type": "markdown",
      "metadata": {
        "id": "BSBbcIN8Okhb"
      },
      "source": [
        "### Calculando as probabilidades com Softmax"
      ]
    },
    {
      "cell_type": "markdown",
      "metadata": {
        "id": "V6e6DAGqOkhb"
      },
      "source": [
        "- [Wikipedia:Softmax_function](https://en.wikipedia.org/wiki/Softmax_function)"
      ]
    },
    {
      "cell_type": "markdown",
      "metadata": {
        "id": "esnpg-lKOkhc"
      },
      "source": [
        "![alt text](https://raw.githubusercontent.com/vcasadei/images/master/softmax.png)"
      ]
    },
    {
      "cell_type": "code",
      "execution_count": null,
      "metadata": {
        "ExecuteTime": {
          "end_time": "2018-02-04T11:47:54.834103Z",
          "start_time": "2018-02-04T11:47:54.826668Z"
        },
        "id": "6twxGJ7sOkhd"
      },
      "outputs": [],
      "source": [
        "F.softmax(out,dim=1)*100"
      ]
    },
    {
      "cell_type": "markdown",
      "metadata": {
        "id": "CvuTGIh0Okhg"
      },
      "source": [
        "### Predição da classe"
      ]
    },
    {
      "cell_type": "code",
      "execution_count": null,
      "metadata": {
        "ExecuteTime": {
          "end_time": "2018-02-04T11:48:06.008337Z",
          "start_time": "2018-02-04T11:48:06.000230Z"
        },
        "id": "cynvYmnBOkhh"
      },
      "outputs": [],
      "source": [
        "prob,y_pred = torch.max(F.softmax(out,dim=1),dim=1)\n",
        "print(y_pred)\n",
        "print(prob)"
      ]
    },
    {
      "cell_type": "markdown",
      "metadata": {
        "id": "IImLpO9VOkhn"
      },
      "source": [
        "## Treinamento"
      ]
    },
    {
      "cell_type": "markdown",
      "metadata": {
        "id": "ieLSCz-dOkho"
      },
      "source": [
        "### Classe para visualização dinâmica"
      ]
    },
    {
      "cell_type": "code",
      "execution_count": null,
      "metadata": {
        "ExecuteTime": {
          "end_time": "2018-02-04T11:50:09.068304Z",
          "start_time": "2018-02-04T11:50:08.890987Z"
        },
        "id": "0MPP0hq4Okho"
      },
      "outputs": [],
      "source": [
        "def predict(model, inputs):\n",
        "    outputs = model(Variable(inputs))\n",
        "    _, predicts = torch.max(outputs, 1)\n",
        "\n",
        "    return predicts.data.numpy()\n",
        "\n",
        "def predict_prob(model, inputs):\n",
        "    outputs = model(Variable(inputs))\n",
        "    outputs = F.softmax(outputs,dim=1)\n",
        "    predicts, _ = torch.max(outputs, 1)\n",
        "\n",
        "    return predicts.data.numpy()\n",
        "\n",
        "class MyPlotter():\n",
        "    def __init__(self, model, X, Y, n_epoch, filepath=None, h = .01):\n",
        "        self.model = model\n",
        "        self.X = X\n",
        "        self.Y = Y\n",
        "        self.n_epoch = n_epoch\n",
        "        self.filepath = filepath\n",
        "        x_min, x_max = X[:, 0].min() - .5, X[:, 0].max() + .5\n",
        "        y_min, y_max = X[:, 1].min() - .5, X[:, 1].max() + .5\n",
        "        self.xx, self.yy = np.meshgrid(np.arange(x_min, x_max, h), np.arange(y_min, y_max, h))\n",
        "        self.loss_hist = []\n",
        "        self.val_loss_hist = []\n",
        "        self.X_grid = np.c_[self.xx.ravel(), self.yy.ravel()]\n",
        "\n",
        "        #Gráficos a serem mostrados pelo callback\n",
        "        self.fig = plt.figure(figsize=(12, 4), dpi=100)\n",
        "        self.ax1 = self.fig.add_subplot(1, 3, 1)\n",
        "        self.ax1.set_xlim(0, nb_epoch)\n",
        "        self.ax1.set_xlabel('Epoca')#,fontsize=28)\n",
        "        self.ax1.set_ylabel('Perda')#,fontsize=28)\n",
        "        self.ax1.set_title('Perda x Época')\n",
        "        self.ax1.plot([],[],'b',linewidth = 2.0,label = \"Treino\")\n",
        "        self.ax1.grid(True)\n",
        "\n",
        "        self.ax2 = self.fig.add_subplot(1, 3, 2)\n",
        "        self.ax2.set_xlim(Xc[:,0].min(), Xc[:,0].max())\n",
        "        self.ax2.set_ylim(Xc[:,1].min(), Xc[:,1].max())\n",
        "        self.ax2.set_xlabel('Comprimento da Sepala')#,fontsize=28)\n",
        "        self.ax2.set_ylabel('Largura da Sepala')#,fontsize=28)\n",
        "        self.ax2.set_title('Fronteiras de decisão')\n",
        "\n",
        "        self.ax3 = self.fig.add_subplot(1, 3, 3)\n",
        "        self.ax3.set_xlim(Xc[:,0].min(), Xc[:,0].max())\n",
        "        self.ax3.set_ylim(Xc[:,1].min(), Xc[:,1].max())\n",
        "        self.ax3.set_xlabel('Comprimento da Sepala')#,fontsize=28)\n",
        "        self.ax3.set_ylabel('Largura da Sepala')#,fontsize=28)\n",
        "        self.ax3.set_title('Máxima probabilidade')\n",
        "\n",
        "    def on_train_begin(self, logs={}):\n",
        "        display.display(self.fig)\n",
        "        display.clear_output(wait=True)\n",
        "\n",
        "    def on_epoch_end(self, epoch, logs={}):\n",
        "        if 'loss' in logs.keys():\n",
        "            self.loss_hist.append(logs['loss'])\n",
        "\n",
        "            if epoch%250==0:\n",
        "                self.ax1.plot(np.arange(epoch+1), self.loss_hist, 'b', linewidth = 2.0)\n",
        "\n",
        "                #Z = predict(self.model, torch.from_numpy(self.X_grid).type(torch.FloatTensor))\n",
        "                Zc = predict(self.model,torch.FloatTensor(self.X_grid))\n",
        "                Zc = Zc.reshape(self.xx.shape)\n",
        "\n",
        "                self.ax2.pcolormesh(self.xx, self.yy, Zc, cmap=plt.cm.Paired)\n",
        "                colors = np.array(['r','y','b'])\n",
        "                self.ax2.scatter(self.X[:, 0], self.X[:, 1], s=40, c=colors[self.Y], edgecolors='k', cmap=plt.cm.Paired)\n",
        "\n",
        "                Zp = predict_prob(self.model,torch.FloatTensor(self.X_grid))\n",
        "                Zp = Zp.reshape(self.xx.shape)\n",
        "\n",
        "                self.ax3.pcolormesh(self.xx, self.yy, Zp, cmap=plt.cm.magma)\n",
        "                colors = np.array(['r','y','b'])\n",
        "                self.ax3.scatter(self.X[:, 0], self.X[:, 1], s=40, c=colors[self.Y], edgecolors='k', cmap=plt.cm.Paired)\n",
        "\n",
        "                display.display(self.fig)\n",
        "                display.clear_output(wait=True)"
      ]
    },
    {
      "cell_type": "markdown",
      "metadata": {
        "id": "_TWIYVdcOkhr"
      },
      "source": [
        "### Laço principal de treinamento da Regressão Logística por Softmax"
      ]
    },
    {
      "cell_type": "code",
      "execution_count": 97,
      "metadata": {
        "ExecuteTime": {
          "end_time": "2018-02-04T11:50:11.056698Z",
          "start_time": "2018-02-04T11:50:11.052258Z"
        },
        "id": "a39nrl9IOkht"
      },
      "outputs": [],
      "source": [
        "lr = 0.3\n",
        "\n",
        "optimizer = torch.optim.SGD(model.parameters(), lr=lr)\n",
        "criterion = nn.CrossEntropyLoss()"
      ]
    },
    {
      "cell_type": "code",
      "execution_count": 99,
      "metadata": {
        "ExecuteTime": {
          "end_time": "2018-02-04T11:50:28.287162Z",
          "start_time": "2018-02-04T11:50:11.745725Z"
        },
        "colab": {
          "base_uri": "https://localhost:8080/",
          "height": 430
        },
        "id": "bSzrD-H4Okhv",
        "outputId": "ae021d48-bcf4-4bc9-e4b2-9dafb3a3e818",
        "scrolled": false
      },
      "outputs": [
        {
          "output_type": "stream",
          "name": "stdout",
          "text": [
            "Final loss: 0.10449963808059692\n"
          ]
        },
        {
          "output_type": "display_data",
          "data": {
            "text/plain": [
              "<Figure size 1200x400 with 3 Axes>"
            ],
            "image/png": "[encoded data removed]"
          },
          "metadata": {}
        }
      ],
      "source": [
        "nb_epoch = 10000\n",
        "\n",
        "#Definindo o plotter\n",
        "my_plot = MyPlotter(model, Xc, Y, nb_epoch)\n",
        "\n",
        "losses = []\n",
        "for i in range(nb_epoch):\n",
        "    # predict da rede\n",
        "    output = model(Variable(X_tensor))\n",
        "\n",
        "    # calcula a perda\n",
        "    loss = criterion(output, Variable(Y_tensor))\n",
        "\n",
        "    # Faz o backpropagation para calcular os gradientes e otimizar parâmetros\n",
        "    optimizer.zero_grad()\n",
        "    loss.backward()\n",
        "    optimizer.step()\n",
        "\n",
        "    losses.append(loss.data.item())\n",
        "\n",
        "    my_plot.on_epoch_end(i, {'loss': loss.data.item()});\n",
        "    final_loss = loss.data.item()\n",
        "\n",
        "print('Final loss:', final_loss)"
      ]
    },
    {
      "cell_type": "code",
      "source": [
        "Qual é a amostra classificada corretamente, com maior probabilidade?\n",
        "\n",
        "Qual é a amostra classificada erradamente, com maior probabilidade?\n",
        "\n",
        "Qual é a amostra classificada corretamente, com menor probabilidade?\n",
        "\n",
        "Qual é a amostra classificada erradamente, com menor probabilidade?"
      ],
      "metadata": {
        "id": "09t2AuWF-Zg6"
      },
      "execution_count": null,
      "outputs": []
    },
    {
      "cell_type": "markdown",
      "metadata": {
        "id": "dVyFTWbkOkh0"
      },
      "source": [
        "## Avaliação"
      ]
    },
    {
      "cell_type": "markdown",
      "metadata": {
        "id": "BJAHo2ZtOkh2"
      },
      "source": [
        "### Parâmetros após treinamento"
      ]
    },
    {
      "cell_type": "code",
      "execution_count": 33,
      "metadata": {
        "ExecuteTime": {
          "end_time": "2018-02-04T11:50:34.067229Z",
          "start_time": "2018-02-04T11:50:34.059140Z"
        },
        "colab": {
          "base_uri": "https://localhost:8080/"
        },
        "id": "Pjl9d3wHOkh2",
        "outputId": "18198f47-f049-4ac7-efc7-6b6ba4257008",
        "scrolled": false
      },
      "outputs": [
        {
          "output_type": "execute_result",
          "data": {
            "text/plain": [
              "OrderedDict([('weight',\n",
              "              tensor([[ -2.7259, -14.9553],\n",
              "                      [  2.1883,  -0.9591],\n",
              "                      [  1.6812,  15.1115]])),\n",
              "             ('bias', tensor([ 6.8795,  1.4768, -8.7968]))])"
            ]
          },
          "metadata": {},
          "execution_count": 33
        }
      ],
      "source": [
        "model.state_dict()"
      ]
    },
    {
      "cell_type": "markdown",
      "metadata": {
        "id": "0qCiheSgOkh7"
      },
      "source": [
        "### Salvando os parâmetros treinados"
      ]
    },
    {
      "cell_type": "code",
      "execution_count": 34,
      "metadata": {
        "ExecuteTime": {
          "end_time": "2018-02-04T11:50:38.047207Z",
          "start_time": "2018-02-04T11:50:38.039612Z"
        },
        "id": "OR6sWjH7Okh8"
      },
      "outputs": [],
      "source": [
        "os.makedirs('../models',exist_ok=True)\n",
        "torch.save(model.state_dict(),'../models/RegrLog_Iris.pt')"
      ]
    },
    {
      "cell_type": "code",
      "execution_count": 35,
      "metadata": {
        "colab": {
          "base_uri": "https://localhost:8080/"
        },
        "id": "p5WhV6IGKRJm",
        "outputId": "ae19db64-1918-4982-d5c5-7e2c19e986fb"
      },
      "outputs": [
        {
          "output_type": "stream",
          "name": "stdout",
          "text": [
            "RegrLog_Iris.pt\n"
          ]
        }
      ],
      "source": [
        "! ls ../models/"
      ]
    },
    {
      "cell_type": "code",
      "execution_count": 36,
      "metadata": {
        "ExecuteTime": {
          "end_time": "2018-02-04T11:50:39.408147Z",
          "start_time": "2018-02-04T11:50:39.401670Z"
        },
        "colab": {
          "base_uri": "https://localhost:8080/"
        },
        "id": "4JJNU5tKOkh_",
        "outputId": "77b95fac-4af9-4f30-e742-68a15976889b"
      },
      "outputs": [
        {
          "output_type": "stream",
          "name": "stderr",
          "text": [
            "<ipython-input-36-0d5512203613>:1: UserWarning: nn.init.constant is now deprecated in favor of nn.init.constant_.\n",
            "  nn.init.constant(model.weight,0)\n"
          ]
        },
        {
          "output_type": "execute_result",
          "data": {
            "text/plain": [
              "OrderedDict([('weight',\n",
              "              tensor([[0., 0.],\n",
              "                      [0., 0.],\n",
              "                      [0., 0.]])),\n",
              "             ('bias', tensor([ 6.8795,  1.4768, -8.7968]))])"
            ]
          },
          "metadata": {},
          "execution_count": 36
        }
      ],
      "source": [
        "nn.init.constant(model.weight,0)\n",
        "model.state_dict()"
      ]
    },
    {
      "cell_type": "markdown",
      "metadata": {
        "id": "urk2L9U-OkiC"
      },
      "source": [
        "### Recuperando os pesos salvos"
      ]
    },
    {
      "cell_type": "code",
      "execution_count": 37,
      "metadata": {
        "ExecuteTime": {
          "end_time": "2018-02-04T11:50:41.170391Z",
          "start_time": "2018-02-04T11:50:41.164336Z"
        },
        "colab": {
          "base_uri": "https://localhost:8080/"
        },
        "id": "Xtx7PShLOkiD",
        "outputId": "f764724d-2ed2-4695-aa67-0ed270ccbdcf"
      },
      "outputs": [
        {
          "output_type": "execute_result",
          "data": {
            "text/plain": [
              "OrderedDict([('weight',\n",
              "              tensor([[ -2.7259, -14.9553],\n",
              "                      [  2.1883,  -0.9591],\n",
              "                      [  1.6812,  15.1115]])),\n",
              "             ('bias', tensor([ 6.8795,  1.4768, -8.7968]))])"
            ]
          },
          "metadata": {},
          "execution_count": 37
        }
      ],
      "source": [
        "param_saved = torch.load('../models/RegrLog_Iris.pt')\n",
        "model.load_state_dict(param_saved)\n",
        "model.state_dict()"
      ]
    },
    {
      "cell_type": "markdown",
      "metadata": {
        "id": "3JqG76-gOkiG"
      },
      "source": [
        "### Exatidão (acurácia) do classificador"
      ]
    },
    {
      "cell_type": "markdown",
      "metadata": {
        "id": "plZ2PIYtOkiH"
      },
      "source": [
        "Acurácia indica o número de acertos sobre o número total de amostras"
      ]
    },
    {
      "cell_type": "code",
      "execution_count": 38,
      "metadata": {
        "ExecuteTime": {
          "end_time": "2018-02-04T11:50:49.806051Z",
          "start_time": "2018-02-04T11:50:49.798847Z"
        },
        "colab": {
          "base_uri": "https://localhost:8080/"
        },
        "id": "YSiENBugOkiJ",
        "outputId": "bb791fe6-5de2-44d6-8153-3dcb5e82ee21"
      },
      "outputs": [
        {
          "output_type": "stream",
          "name": "stdout",
          "text": [
            "Training Accuracy:  0.96\n"
          ]
        }
      ],
      "source": [
        "Y_pred = predict(model, X_tensor)\n",
        "accuracy = (Y_pred == Y).mean()\n",
        "print('Training Accuracy: ', accuracy)"
      ]
    },
    {
      "cell_type": "markdown",
      "metadata": {
        "id": "hJG9whYcOkiQ"
      },
      "source": [
        "### Matriz de confusão"
      ]
    },
    {
      "cell_type": "code",
      "execution_count": 39,
      "metadata": {
        "ExecuteTime": {
          "end_time": "2018-02-04T11:50:52.164289Z",
          "start_time": "2018-02-04T11:50:52.138337Z"
        },
        "colab": {
          "base_uri": "https://localhost:8080/",
          "height": 174
        },
        "id": "AxD98LU2OkiS",
        "outputId": "7540850b-bfbd-4628-eef9-cb59a9254137"
      },
      "outputs": [
        {
          "output_type": "execute_result",
          "data": {
            "text/plain": [
              "col_0   0   1   2\n",
              "row_0            \n",
              "0      50   0   0\n",
              "1       0  47   3\n",
              "2       0   3  47"
            ],
            "text/html": [
              "\n",
              "  <div id=\"df-6c46295f-6a1b-4e77-9787-37f4bac98cb9\" class=\"colab-df-container\">\n",
              "    <div>\n",
              "<style scoped>\n",
              "    .dataframe tbody tr th:only-of-type {\n",
              "        vertical-align: middle;\n",
              "    }\n",
              "\n",
              "    .dataframe tbody tr th {\n",
              "        vertical-align: top;\n",
              "    }\n",
              "\n",
              "    .dataframe thead th {\n",
              "        text-align: right;\n",
              "    }\n",
              "</style>\n",
              "<table border=\"1\" class=\"dataframe\">\n",
              "  <thead>\n",
              "    <tr style=\"text-align: right;\">\n",
              "      <th>col_0</th>\n",
              "      <th>0</th>\n",
              "      <th>1</th>\n",
              "      <th>2</th>\n",
              "    </tr>\n",
              "    <tr>\n",
              "      <th>row_0</th>\n",
              "      <th></th>\n",
              "      <th></th>\n",
              "      <th></th>\n",
              "    </tr>\n",
              "  </thead>\n",
              "  <tbody>\n",
              "    <tr>\n",
              "      <th>0</th>\n",
              "      <td>50</td>\n",
              "      <td>0</td>\n",
              "      <td>0</td>\n",
              "    </tr>\n",
              "    <tr>\n",
              "      <th>1</th>\n",
              "      <td>0</td>\n",
              "      <td>47</td>\n",
              "      <td>3</td>\n",
              "    </tr>\n",
              "    <tr>\n",
              "      <th>2</th>\n",
              "      <td>0</td>\n",
              "      <td>3</td>\n",
              "      <td>47</td>\n",
              "    </tr>\n",
              "  </tbody>\n",
              "</table>\n",
              "</div>\n",
              "    <div class=\"colab-df-buttons\">\n",
              "\n",
              "  <div class=\"colab-df-container\">\n",
              "    <button class=\"colab-df-convert\" onclick=\"convertToInteractive('df-6c46295f-6a1b-4e77-9787-37f4bac98cb9')\"\n",
              "            title=\"Convert this dataframe to an interactive table.\"\n",
              "            style=\"display:none;\">\n",
              "\n",
              "  <svg xmlns=\"http://www.w3.org/2000/svg\" height=\"24px\" viewBox=\"0 -960 960 960\">\n",
              "    <path d=\"M120-120v-720h720v720H120Zm60-500h600v-160H180v160Zm220 220h160v-160H400v160Zm0 220h160v-160H400v160ZM180-400h160v-160H180v160Zm440 0h160v-160H620v160ZM180-180h160v-160H180v160Zm440 0h160v-160H620v160Z\"/>\n",
              "  </svg>\n",
              "    </button>\n",
              "\n",
              "  <style>\n",
              "    .colab-df-container {\n",
              "      display:flex;\n",
              "      gap: 12px;\n",
              "    }\n",
              "\n",
              "    .colab-df-convert {\n",
              "      background-color: #E8F0FE;\n",
              "      border: none;\n",
              "      border-radius: 50%;\n",
              "      cursor: pointer;\n",
              "      display: none;\n",
              "      fill: #1967D2;\n",
              "      height: 32px;\n",
              "      padding: 0 0 0 0;\n",
              "      width: 32px;\n",
              "    }\n",
              "\n",
              "    .colab-df-convert:hover {\n",
              "      background-color: #E2EBFA;\n",
              "      box-shadow: 0px 1px 2px rgba(60, 64, 67, 0.3), 0px 1px 3px 1px rgba(60, 64, 67, 0.15);\n",
              "      fill: #174EA6;\n",
              "    }\n",
              "\n",
              "    .colab-df-buttons div {\n",
              "      margin-bottom: 4px;\n",
              "    }\n",
              "\n",
              "    [theme=dark] .colab-df-convert {\n",
              "      background-color: #3B4455;\n",
              "      fill: #D2E3FC;\n",
              "    }\n",
              "\n",
              "    [theme=dark] .colab-df-convert:hover {\n",
              "      background-color: #434B5C;\n",
              "      box-shadow: 0px 1px 3px 1px rgba(0, 0, 0, 0.15);\n",
              "      filter: drop-shadow(0px 1px 2px rgba(0, 0, 0, 0.3));\n",
              "      fill: #FFFFFF;\n",
              "    }\n",
              "  </style>\n",
              "\n",
              "    <script>\n",
              "      const buttonEl =\n",
              "        document.querySelector('#df-6c46295f-6a1b-4e77-9787-37f4bac98cb9 button.colab-df-convert');\n",
              "      buttonEl.style.display =\n",
              "        google.colab.kernel.accessAllowed ? 'block' : 'none';\n",
              "\n",
              "      async function convertToInteractive(key) {\n",
              "        const element = document.querySelector('#df-6c46295f-6a1b-4e77-9787-37f4bac98cb9');\n",
              "        const dataTable =\n",
              "          await google.colab.kernel.invokeFunction('convertToInteractive',\n",
              "                                                    [key], {});\n",
              "        if (!dataTable) return;\n",
              "\n",
              "        const docLinkHtml = 'Like what you see? Visit the ' +\n",
              "          '<a target=\"_blank\" href=https://colab.research.google.com/notebooks/data_table.ipynb>data table notebook</a>'\n",
              "          + ' to learn more about interactive tables.';\n",
              "        element.innerHTML = '';\n",
              "        dataTable['output_type'] = 'display_data';\n",
              "        await google.colab.output.renderOutput(dataTable, element);\n",
              "        const docLink = document.createElement('div');\n",
              "        docLink.innerHTML = docLinkHtml;\n",
              "        element.appendChild(docLink);\n",
              "      }\n",
              "    </script>\n",
              "  </div>\n",
              "\n",
              "\n",
              "<div id=\"df-5b77ec80-6972-430f-856a-81cd665141c0\">\n",
              "  <button class=\"colab-df-quickchart\" onclick=\"quickchart('df-5b77ec80-6972-430f-856a-81cd665141c0')\"\n",
              "            title=\"Suggest charts\"\n",
              "            style=\"display:none;\">\n",
              "\n",
              "<svg xmlns=\"http://www.w3.org/2000/svg\" height=\"24px\"viewBox=\"0 0 24 24\"\n",
              "     width=\"24px\">\n",
              "    <g>\n",
              "        <path d=\"M19 3H5c-1.1 0-2 .9-2 2v14c0 1.1.9 2 2 2h14c1.1 0 2-.9 2-2V5c0-1.1-.9-2-2-2zM9 17H7v-7h2v7zm4 0h-2V7h2v10zm4 0h-2v-4h2v4z\"/>\n",
              "    </g>\n",
              "</svg>\n",
              "  </button>\n",
              "\n",
              "<style>\n",
              "  .colab-df-quickchart {\n",
              "      --bg-color: #E8F0FE;\n",
              "      --fill-color: #1967D2;\n",
              "      --hover-bg-color: #E2EBFA;\n",
              "      --hover-fill-color: #174EA6;\n",
              "      --disabled-fill-color: #AAA;\n",
              "      --disabled-bg-color: #DDD;\n",
              "  }\n",
              "\n",
              "  [theme=dark] .colab-df-quickchart {\n",
              "      --bg-color: #3B4455;\n",
              "      --fill-color: #D2E3FC;\n",
              "      --hover-bg-color: #434B5C;\n",
              "      --hover-fill-color: #FFFFFF;\n",
              "      --disabled-bg-color: #3B4455;\n",
              "      --disabled-fill-color: #666;\n",
              "  }\n",
              "\n",
              "  .colab-df-quickchart {\n",
              "    background-color: var(--bg-color);\n",
              "    border: none;\n",
              "    border-radius: 50%;\n",
              "    cursor: pointer;\n",
              "    display: none;\n",
              "    fill: var(--fill-color);\n",
              "    height: 32px;\n",
              "    padding: 0;\n",
              "    width: 32px;\n",
              "  }\n",
              "\n",
              "  .colab-df-quickchart:hover {\n",
              "    background-color: var(--hover-bg-color);\n",
              "    box-shadow: 0 1px 2px rgba(60, 64, 67, 0.3), 0 1px 3px 1px rgba(60, 64, 67, 0.15);\n",
              "    fill: var(--button-hover-fill-color);\n",
              "  }\n",
              "\n",
              "  .colab-df-quickchart-complete:disabled,\n",
              "  .colab-df-quickchart-complete:disabled:hover {\n",
              "    background-color: var(--disabled-bg-color);\n",
              "    fill: var(--disabled-fill-color);\n",
              "    box-shadow: none;\n",
              "  }\n",
              "\n",
              "  .colab-df-spinner {\n",
              "    border: 2px solid var(--fill-color);\n",
              "    border-color: transparent;\n",
              "    border-bottom-color: var(--fill-color);\n",
              "    animation:\n",
              "      spin 1s steps(1) infinite;\n",
              "  }\n",
              "\n",
              "  @keyframes spin {\n",
              "    0% {\n",
              "      border-color: transparent;\n",
              "      border-bottom-color: var(--fill-color);\n",
              "      border-left-color: var(--fill-color);\n",
              "    }\n",
              "    20% {\n",
              "      border-color: transparent;\n",
              "      border-left-color: var(--fill-color);\n",
              "      border-top-color: var(--fill-color);\n",
              "    }\n",
              "    30% {\n",
              "      border-color: transparent;\n",
              "      border-left-color: var(--fill-color);\n",
              "      border-top-color: var(--fill-color);\n",
              "      border-right-color: var(--fill-color);\n",
              "    }\n",
              "    40% {\n",
              "      border-color: transparent;\n",
              "      border-right-color: var(--fill-color);\n",
              "      border-top-color: var(--fill-color);\n",
              "    }\n",
              "    60% {\n",
              "      border-color: transparent;\n",
              "      border-right-color: var(--fill-color);\n",
              "    }\n",
              "    80% {\n",
              "      border-color: transparent;\n",
              "      border-right-color: var(--fill-color);\n",
              "      border-bottom-color: var(--fill-color);\n",
              "    }\n",
              "    90% {\n",
              "      border-color: transparent;\n",
              "      border-bottom-color: var(--fill-color);\n",
              "    }\n",
              "  }\n",
              "</style>\n",
              "\n",
              "  <script>\n",
              "    async function quickchart(key) {\n",
              "      const quickchartButtonEl =\n",
              "        document.querySelector('#' + key + ' button');\n",
              "      quickchartButtonEl.disabled = true;  // To prevent multiple clicks.\n",
              "      quickchartButtonEl.classList.add('colab-df-spinner');\n",
              "      try {\n",
              "        const charts = await google.colab.kernel.invokeFunction(\n",
              "            'suggestCharts', [key], {});\n",
              "      } catch (error) {\n",
              "        console.error('Error during call to suggestCharts:', error);\n",
              "      }\n",
              "      quickchartButtonEl.classList.remove('colab-df-spinner');\n",
              "      quickchartButtonEl.classList.add('colab-df-quickchart-complete');\n",
              "    }\n",
              "    (() => {\n",
              "      let quickchartButtonEl =\n",
              "        document.querySelector('#df-5b77ec80-6972-430f-856a-81cd665141c0 button');\n",
              "      quickchartButtonEl.style.display =\n",
              "        google.colab.kernel.accessAllowed ? 'block' : 'none';\n",
              "    })();\n",
              "  </script>\n",
              "</div>\n",
              "\n",
              "    </div>\n",
              "  </div>\n"
            ],
            "application/vnd.google.colaboratory.intrinsic+json": {
              "type": "dataframe",
              "summary": "{\n  \"name\": \"pd\",\n  \"rows\": 3,\n  \"fields\": [\n    {\n      \"column\": \"row_0\",\n      \"properties\": {\n        \"dtype\": \"number\",\n        \"std\": 1,\n        \"min\": 0,\n        \"max\": 2,\n        \"num_unique_values\": 3,\n        \"samples\": [\n          0,\n          1,\n          2\n        ],\n        \"semantic_type\": \"\",\n        \"description\": \"\"\n      }\n    },\n    {\n      \"column\": 0,\n      \"properties\": {\n        \"dtype\": \"number\",\n        \"std\": 28,\n        \"min\": 0,\n        \"max\": 50,\n        \"num_unique_values\": 2,\n        \"samples\": [\n          0,\n          50\n        ],\n        \"semantic_type\": \"\",\n        \"description\": \"\"\n      }\n    },\n    {\n      \"column\": 1,\n      \"properties\": {\n        \"dtype\": \"number\",\n        \"std\": 26,\n        \"min\": 0,\n        \"max\": 47,\n        \"num_unique_values\": 3,\n        \"samples\": [\n          0,\n          47\n        ],\n        \"semantic_type\": \"\",\n        \"description\": \"\"\n      }\n    },\n    {\n      \"column\": 2,\n      \"properties\": {\n        \"dtype\": \"number\",\n        \"std\": 26,\n        \"min\": 0,\n        \"max\": 47,\n        \"num_unique_values\": 3,\n        \"samples\": [\n          0,\n          3\n        ],\n        \"semantic_type\": \"\",\n        \"description\": \"\"\n      }\n    }\n  ]\n}"
            }
          },
          "metadata": {},
          "execution_count": 39
        }
      ],
      "source": [
        "import pandas as pd\n",
        "pd.crosstab(Y_pred, Y)"
      ]
    },
    {
      "cell_type": "markdown",
      "metadata": {
        "id": "gkyHe2a-Okic"
      },
      "source": [
        "## Atividades"
      ]
    },
    {
      "cell_type": "markdown",
      "metadata": {
        "id": "9fPSAFKYOkig"
      },
      "source": [
        "### Perguntas:"
      ]
    },
    {
      "cell_type": "markdown",
      "metadata": {
        "id": "eRLS3kQ8Okii"
      },
      "source": [
        "1. Observe que se após o treinamento, a célula for executada novamente, ela continua utilizando os parâmetros treinados até sua última execução. O que é preciso fazer para que o treinamento comece deste o início, como da primeira vez que foi executado?\n",
        "\n",
        "2. Experimente refazer o treinamento com diferentes valores de learning rate"
      ]
    },
    {
      "cell_type": "markdown",
      "metadata": {
        "id": "-rC96Z8BOkij"
      },
      "source": [
        "### Exercícios:"
      ]
    },
    {
      "cell_type": "markdown",
      "metadata": {
        "id": "91eMzKc-Okil"
      },
      "source": [
        "1. Observando o gráfico de máxima probabilidade, responda:\n",
        "    1. Qual é a amostra classificada corretamente, com maior probabilidade?\n",
        "    \n",
        "    2. Qual é a amostra classificada erradamente, com maior probabilidade?\n",
        "    \n",
        "    3. Qual é a amostra classificada corretamente, com menor probabilidade?\n",
        "    4. Qual é a amostra classificada erradamente, com menor probabilidade?\n",
        "2. Quantos parâmetros possui esta rede? Quantos são da camada densa e quantos são de bias?\n",
        "\n",
        "R.: 9 parametros (6 pesos e 3 bias)\n",
        "\n",
        "3. Quantas entradas e quantas saídas esta rede possui?\n",
        "\n",
        "R.: 2 entradas e 3 saídas\n",
        "\n",
        "4. Como se pode calcular a acurácia a partir da matriz de confusão?\n",
        "\n",
        "R.:\n",
        "\n",
        "5. O que faz a função `torch.max`? Quantos parâmetros ela retorna e quais seus significados?\n",
        "    - http://pytorch.org/docs/master/torch.html?highlight=torch%20max#torch.max"
      ]
    },
    {
      "cell_type": "markdown",
      "metadata": {
        "id": "CGE2Q6cJOkiq"
      },
      "source": [
        "## Principais aprendizados"
      ]
    }
  ],
  "metadata": {
    "accelerator": "TPU",
    "colab": {
      "provenance": []
    },
    "kernelspec": {
      "display_name": "Python 3.10.2 64-bit",
      "language": "python",
      "name": "python3"
    },
    "language_info": {
      "name": "python",
      "version": "3.10.2"
    },
    "vscode": {
      "interpreter": {
        "hash": "5fe3e6f0cdaab8afdc61c52912fda83f7c0a71baaea1897dd7498e2df01e69ec"
      }
    }
  },
  "nbformat": 4,
  "nbformat_minor": 0
}