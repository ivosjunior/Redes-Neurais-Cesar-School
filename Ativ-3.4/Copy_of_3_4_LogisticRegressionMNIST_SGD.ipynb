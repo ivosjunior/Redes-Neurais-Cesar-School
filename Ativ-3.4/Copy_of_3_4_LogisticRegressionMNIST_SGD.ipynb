{
  "cells": [
    {
      "cell_type": "markdown",
      "metadata": {
        "id": "gbTOc6cbl-eq"
      },
      "source": [
        "# Regressão Softmax com dados do MNIST utilizando gradiente descendente estocástico por minibatches"
      ]
    },
    {
      "cell_type": "markdown",
      "metadata": {
        "id": "C-IK0yRml-er"
      },
      "source": [
        "O objetivo deste notebook é ilustrar\n",
        "- o uso do gradiente estocástico por mini-batchs\n",
        "- utilizando as classes Dataset e DataLoater.\n",
        "\n",
        "A apresentação da perda nos gráficos é um pouco diferente da usual, mostrando a perda de cada um dos vários minibatches dentro de cada época, de forma que as épocas são apresentadas com valores fracionários."
      ]
    },
    {
      "cell_type": "markdown",
      "metadata": {
        "id": "mqqDXfr4l-et"
      },
      "source": [
        "## Importação das bibliotecas"
      ]
    },
    {
      "cell_type": "code",
      "execution_count": 29,
      "metadata": {
        "ExecuteTime": {
          "end_time": "2017-11-24T22:39:50.314578Z",
          "start_time": "2017-11-24T22:39:48.904460Z"
        },
        "id": "0Iry5pajl-eu"
      },
      "outputs": [],
      "source": [
        "%matplotlib inline\n",
        "import numpy as np\n",
        "import matplotlib.pyplot as plt\n",
        "\n",
        "import torch\n",
        "from torch.autograd import Variable\n",
        "from torch.utils.data import DataLoader\n",
        "\n",
        "import torchvision\n",
        "from torchvision.datasets import MNIST"
      ]
    },
    {
      "cell_type": "markdown",
      "metadata": {
        "id": "QqgILyIkl-ey"
      },
      "source": [
        "## Dataset e dataloader"
      ]
    },
    {
      "cell_type": "markdown",
      "metadata": {
        "id": "VAMBUN5ol-ez"
      },
      "source": [
        "### Definição do tamanho do minibatch"
      ]
    },
    {
      "cell_type": "code",
      "execution_count": 30,
      "metadata": {
        "ExecuteTime": {
          "end_time": "2017-11-24T22:39:50.323379Z",
          "start_time": "2017-11-24T22:39:50.318024Z"
        },
        "id": "1YGmeZtbl-ez"
      },
      "outputs": [],
      "source": [
        "batch_size = 1000"
      ]
    },
    {
      "cell_type": "markdown",
      "metadata": {
        "id": "3uaaezsvl-e5"
      },
      "source": [
        "### Carregamento, criação dataset e do dataloader"
      ]
    },
    {
      "cell_type": "code",
      "execution_count": 31,
      "metadata": {
        "ExecuteTime": {
          "end_time": "2017-11-24T22:39:50.400325Z",
          "start_time": "2017-11-24T22:39:50.326019Z"
        },
        "colab": {
          "base_uri": "https://localhost:8080/"
        },
        "id": "TRXgajEXl-e6",
        "outputId": "af4d277f-cc81-429c-96c5-0a6428a7fe25"
      },
      "outputs": [
        {
          "output_type": "stream",
          "name": "stdout",
          "text": [
            "Número de minibatches de trenamento: 60\n",
            "\n",
            "Dimensões dos dados de um minibatch: torch.Size([1000, 1, 28, 28])\n",
            "Valores mínimo e máximo dos pixels:  tensor(0.) tensor(1.)\n",
            "Tipo dos dados das imagens:          <class 'torch.Tensor'>\n",
            "Tipo das classes das imagens:        <class 'torch.Tensor'>\n"
          ]
        }
      ],
      "source": [
        "dataset_dir = 'MNIST/'\n",
        "\n",
        "dataset_train = MNIST(dataset_dir, train=True, download=True,\n",
        "                      transform=torchvision.transforms.ToTensor())\n",
        "\n",
        "loader_train = DataLoader(dataset_train, batch_size=batch_size, shuffle=False)\n",
        "\n",
        "print('Número de minibatches de trenamento:', len(loader_train))\n",
        "\n",
        "x_train, y_train = next(iter(loader_train))\n",
        "print(\"\\nDimensões dos dados de um minibatch:\", x_train.size())\n",
        "print(\"Valores mínimo e máximo dos pixels: \", torch.min(x_train), torch.max(x_train))\n",
        "print(\"Tipo dos dados das imagens:         \", type(x_train))\n",
        "print(\"Tipo das classes das imagens:       \", type(y_train))"
      ]
    },
    {
      "cell_type": "markdown",
      "metadata": {
        "id": "Jalws0jHl-fB"
      },
      "source": [
        "### Usando todas as amostras do MNIST\n",
        "\n",
        "Neste exemplo utilizaremos todas as amostras de treinamento."
      ]
    },
    {
      "cell_type": "code",
      "execution_count": 32,
      "metadata": {
        "ExecuteTime": {
          "end_time": "2017-11-24T22:39:50.414117Z",
          "start_time": "2017-11-24T22:39:50.402687Z"
        },
        "colab": {
          "base_uri": "https://localhost:8080/"
        },
        "id": "TnFMMGDKl-fC",
        "outputId": "21b30ddc-47d9-4e02-a5f8-46592ae7a092"
      },
      "outputs": [
        {
          "output_type": "stream",
          "name": "stdout",
          "text": [
            "Número de minibatches de treinamento: 60\n"
          ]
        }
      ],
      "source": [
        "print('Número de minibatches de treinamento:', len(loader_train))\n",
        "n_batches_train = len(loader_train)\n",
        "total_samples = dataset_train.train_data.size(0)"
      ]
    },
    {
      "cell_type": "markdown",
      "metadata": {
        "id": "dz6ke_hfl-fF"
      },
      "source": [
        "## Modelo"
      ]
    },
    {
      "cell_type": "code",
      "execution_count": 33,
      "metadata": {
        "ExecuteTime": {
          "end_time": "2017-11-24T22:39:50.422994Z",
          "start_time": "2017-11-24T22:39:50.416568Z"
        },
        "id": "8iCWX43fl-fG"
      },
      "outputs": [],
      "source": [
        "model = torch.nn.Linear(28*28, 10)"
      ]
    },
    {
      "cell_type": "code",
      "execution_count": 34,
      "metadata": {
        "colab": {
          "base_uri": "https://localhost:8080/"
        },
        "id": "GrIFjo18dZ_L",
        "outputId": "d25b7a60-78ee-47ab-d697-042050248faf"
      },
      "outputs": [
        {
          "output_type": "stream",
          "name": "stdout",
          "text": [
            "torch.Size([1, 784])\n"
          ]
        },
        {
          "output_type": "execute_result",
          "data": {
            "text/plain": [
              "tensor([[-0.0657,  0.2602, -0.2716, -0.3466, -0.4091,  0.6037,  0.6375, -0.1219,\n",
              "         -0.4974,  0.4959]], grad_fn=<AddmmBackward0>)"
            ]
          },
          "metadata": {},
          "execution_count": 34
        }
      ],
      "source": [
        "x = torch.ones(28*28).reshape(1, 784)\n",
        "print(x.shape)\n",
        "predict = model(x)\n",
        "predict"
      ]
    },
    {
      "cell_type": "markdown",
      "metadata": {
        "id": "kVDFEZBql-fJ"
      },
      "source": [
        "## Treinamento"
      ]
    },
    {
      "cell_type": "markdown",
      "metadata": {
        "id": "OUAeuSK6l-fJ"
      },
      "source": [
        "### Inicialização dos parâmetros"
      ]
    },
    {
      "cell_type": "code",
      "execution_count": 35,
      "metadata": {
        "ExecuteTime": {
          "end_time": "2017-11-24T22:39:50.433321Z",
          "start_time": "2017-11-24T22:39:50.426167Z"
        },
        "id": "XT5_fSiQl-fK"
      },
      "outputs": [],
      "source": [
        "n_epochs = 5\n",
        "learningRate = 0.5\n",
        "\n",
        "# Utilizaremos CrossEntropyLoss como função de perda\n",
        "criterion = torch.nn.CrossEntropyLoss()\n",
        "\n",
        "# Gradiente descendente\n",
        "optimizer = torch.optim.SGD(model.parameters(), lr=learningRate)"
      ]
    },
    {
      "cell_type": "markdown",
      "metadata": {
        "id": "-OM9OWI6l-fN"
      },
      "source": [
        "### Laço de treinamento dos parâmetros"
      ]
    },
    {
      "cell_type": "code",
      "execution_count": 39,
      "metadata": {
        "ExecuteTime": {
          "end_time": "2017-11-24T22:39:50.984972Z",
          "start_time": "2017-11-24T22:39:50.435673Z"
        },
        "id": "JvNVUUFTl-fQ",
        "colab": {
          "base_uri": "https://localhost:8080/"
        },
        "outputId": "06b3258f-ef2d-462e-de63-99b27f8b5109"
      },
      "outputs": [
        {
          "output_type": "stream",
          "name": "stdout",
          "text": [
            "Época: 0/4, batch: 0/60\n",
            "Época: 0/4, batch: 1/60\n",
            "Época: 0/4, batch: 2/60\n",
            "Época: 0/4, batch: 3/60\n",
            "Época: 0/4, batch: 4/60\n",
            "Época: 0/4, batch: 5/60\n",
            "Época: 0/4, batch: 6/60\n",
            "Época: 0/4, batch: 7/60\n",
            "Época: 0/4, batch: 8/60\n",
            "Época: 0/4, batch: 9/60\n",
            "Época: 0/4, batch: 10/60\n",
            "Época: 0/4, batch: 11/60\n",
            "Época: 0/4, batch: 12/60\n",
            "Época: 0/4, batch: 13/60\n",
            "Época: 0/4, batch: 14/60\n",
            "Época: 0/4, batch: 15/60\n",
            "Época: 0/4, batch: 16/60\n",
            "Época: 0/4, batch: 17/60\n",
            "Época: 0/4, batch: 18/60\n",
            "Época: 0/4, batch: 19/60\n",
            "Época: 0/4, batch: 20/60\n",
            "Época: 0/4, batch: 21/60\n",
            "Época: 0/4, batch: 22/60\n",
            "Época: 0/4, batch: 23/60\n",
            "Época: 0/4, batch: 24/60\n",
            "Época: 0/4, batch: 25/60\n",
            "Época: 0/4, batch: 26/60\n",
            "Época: 0/4, batch: 27/60\n",
            "Época: 0/4, batch: 28/60\n",
            "Época: 0/4, batch: 29/60\n",
            "Época: 0/4, batch: 30/60\n",
            "Época: 0/4, batch: 31/60\n",
            "Época: 0/4, batch: 32/60\n",
            "Época: 0/4, batch: 33/60\n",
            "Época: 0/4, batch: 34/60\n",
            "Época: 0/4, batch: 35/60\n",
            "Época: 0/4, batch: 36/60\n",
            "Época: 0/4, batch: 37/60\n",
            "Época: 0/4, batch: 38/60\n",
            "Época: 0/4, batch: 39/60\n",
            "Época: 0/4, batch: 40/60\n",
            "Época: 0/4, batch: 41/60\n",
            "Época: 0/4, batch: 42/60\n",
            "Época: 0/4, batch: 43/60\n",
            "Época: 0/4, batch: 44/60\n",
            "Época: 0/4, batch: 45/60\n",
            "Época: 0/4, batch: 46/60\n",
            "Época: 0/4, batch: 47/60\n",
            "Época: 0/4, batch: 48/60\n",
            "Época: 0/4, batch: 49/60\n",
            "Época: 0/4, batch: 50/60\n",
            "Época: 0/4, batch: 51/60\n",
            "Época: 0/4, batch: 52/60\n",
            "Época: 0/4, batch: 53/60\n",
            "Época: 0/4, batch: 54/60\n",
            "Época: 0/4, batch: 55/60\n",
            "Época: 0/4, batch: 56/60\n",
            "Época: 0/4, batch: 57/60\n",
            "Época: 0/4, batch: 58/60\n",
            "Época: 0/4, batch: 59/60\n",
            "Época: 1/4, batch: 0/60\n",
            "Época: 1/4, batch: 1/60\n",
            "Época: 1/4, batch: 2/60\n",
            "Época: 1/4, batch: 3/60\n",
            "Época: 1/4, batch: 4/60\n",
            "Época: 1/4, batch: 5/60\n",
            "Época: 1/4, batch: 6/60\n",
            "Época: 1/4, batch: 7/60\n",
            "Época: 1/4, batch: 8/60\n",
            "Época: 1/4, batch: 9/60\n",
            "Época: 1/4, batch: 10/60\n",
            "Época: 1/4, batch: 11/60\n",
            "Época: 1/4, batch: 12/60\n",
            "Época: 1/4, batch: 13/60\n",
            "Época: 1/4, batch: 14/60\n",
            "Época: 1/4, batch: 15/60\n",
            "Época: 1/4, batch: 16/60\n",
            "Época: 1/4, batch: 17/60\n",
            "Época: 1/4, batch: 18/60\n",
            "Época: 1/4, batch: 19/60\n",
            "Época: 1/4, batch: 20/60\n",
            "Época: 1/4, batch: 21/60\n",
            "Época: 1/4, batch: 22/60\n",
            "Época: 1/4, batch: 23/60\n",
            "Época: 1/4, batch: 24/60\n",
            "Época: 1/4, batch: 25/60\n",
            "Época: 1/4, batch: 26/60\n",
            "Época: 1/4, batch: 27/60\n",
            "Época: 1/4, batch: 28/60\n",
            "Época: 1/4, batch: 29/60\n",
            "Época: 1/4, batch: 30/60\n",
            "Época: 1/4, batch: 31/60\n",
            "Época: 1/4, batch: 32/60\n",
            "Época: 1/4, batch: 33/60\n",
            "Época: 1/4, batch: 34/60\n",
            "Época: 1/4, batch: 35/60\n",
            "Época: 1/4, batch: 36/60\n",
            "Época: 1/4, batch: 37/60\n",
            "Época: 1/4, batch: 38/60\n",
            "Época: 1/4, batch: 39/60\n",
            "Época: 1/4, batch: 40/60\n",
            "Época: 1/4, batch: 41/60\n",
            "Época: 1/4, batch: 42/60\n",
            "Época: 1/4, batch: 43/60\n",
            "Época: 1/4, batch: 44/60\n",
            "Época: 1/4, batch: 45/60\n",
            "Época: 1/4, batch: 46/60\n",
            "Época: 1/4, batch: 47/60\n",
            "Época: 1/4, batch: 48/60\n",
            "Época: 1/4, batch: 49/60\n",
            "Época: 1/4, batch: 50/60\n",
            "Época: 1/4, batch: 51/60\n",
            "Época: 1/4, batch: 52/60\n",
            "Época: 1/4, batch: 53/60\n",
            "Época: 1/4, batch: 54/60\n",
            "Época: 1/4, batch: 55/60\n",
            "Época: 1/4, batch: 56/60\n",
            "Época: 1/4, batch: 57/60\n",
            "Época: 1/4, batch: 58/60\n",
            "Época: 1/4, batch: 59/60\n",
            "Época: 2/4, batch: 0/60\n",
            "Época: 2/4, batch: 1/60\n",
            "Época: 2/4, batch: 2/60\n",
            "Época: 2/4, batch: 3/60\n",
            "Época: 2/4, batch: 4/60\n",
            "Época: 2/4, batch: 5/60\n",
            "Época: 2/4, batch: 6/60\n",
            "Época: 2/4, batch: 7/60\n",
            "Época: 2/4, batch: 8/60\n",
            "Época: 2/4, batch: 9/60\n",
            "Época: 2/4, batch: 10/60\n",
            "Época: 2/4, batch: 11/60\n",
            "Época: 2/4, batch: 12/60\n",
            "Época: 2/4, batch: 13/60\n",
            "Época: 2/4, batch: 14/60\n",
            "Época: 2/4, batch: 15/60\n",
            "Época: 2/4, batch: 16/60\n",
            "Época: 2/4, batch: 17/60\n",
            "Época: 2/4, batch: 18/60\n",
            "Época: 2/4, batch: 19/60\n",
            "Época: 2/4, batch: 20/60\n",
            "Época: 2/4, batch: 21/60\n",
            "Época: 2/4, batch: 22/60\n",
            "Época: 2/4, batch: 23/60\n",
            "Época: 2/4, batch: 24/60\n",
            "Época: 2/4, batch: 25/60\n",
            "Época: 2/4, batch: 26/60\n",
            "Época: 2/4, batch: 27/60\n",
            "Época: 2/4, batch: 28/60\n",
            "Época: 2/4, batch: 29/60\n",
            "Época: 2/4, batch: 30/60\n",
            "Época: 2/4, batch: 31/60\n",
            "Época: 2/4, batch: 32/60\n",
            "Época: 2/4, batch: 33/60\n",
            "Época: 2/4, batch: 34/60\n",
            "Época: 2/4, batch: 35/60\n",
            "Época: 2/4, batch: 36/60\n",
            "Época: 2/4, batch: 37/60\n",
            "Época: 2/4, batch: 38/60\n",
            "Época: 2/4, batch: 39/60\n",
            "Época: 2/4, batch: 40/60\n",
            "Época: 2/4, batch: 41/60\n",
            "Época: 2/4, batch: 42/60\n",
            "Época: 2/4, batch: 43/60\n",
            "Época: 2/4, batch: 44/60\n",
            "Época: 2/4, batch: 45/60\n",
            "Época: 2/4, batch: 46/60\n",
            "Época: 2/4, batch: 47/60\n",
            "Época: 2/4, batch: 48/60\n",
            "Época: 2/4, batch: 49/60\n",
            "Época: 2/4, batch: 50/60\n",
            "Época: 2/4, batch: 51/60\n",
            "Época: 2/4, batch: 52/60\n",
            "Época: 2/4, batch: 53/60\n",
            "Época: 2/4, batch: 54/60\n",
            "Época: 2/4, batch: 55/60\n",
            "Época: 2/4, batch: 56/60\n",
            "Época: 2/4, batch: 57/60\n",
            "Época: 2/4, batch: 58/60\n",
            "Época: 2/4, batch: 59/60\n",
            "Época: 3/4, batch: 0/60\n",
            "Época: 3/4, batch: 1/60\n",
            "Época: 3/4, batch: 2/60\n",
            "Época: 3/4, batch: 3/60\n",
            "Época: 3/4, batch: 4/60\n",
            "Época: 3/4, batch: 5/60\n",
            "Época: 3/4, batch: 6/60\n",
            "Época: 3/4, batch: 7/60\n",
            "Época: 3/4, batch: 8/60\n",
            "Época: 3/4, batch: 9/60\n",
            "Época: 3/4, batch: 10/60\n",
            "Época: 3/4, batch: 11/60\n",
            "Época: 3/4, batch: 12/60\n",
            "Época: 3/4, batch: 13/60\n",
            "Época: 3/4, batch: 14/60\n",
            "Época: 3/4, batch: 15/60\n",
            "Época: 3/4, batch: 16/60\n",
            "Época: 3/4, batch: 17/60\n",
            "Época: 3/4, batch: 18/60\n",
            "Época: 3/4, batch: 19/60\n",
            "Época: 3/4, batch: 20/60\n",
            "Época: 3/4, batch: 21/60\n",
            "Época: 3/4, batch: 22/60\n",
            "Época: 3/4, batch: 23/60\n",
            "Época: 3/4, batch: 24/60\n",
            "Época: 3/4, batch: 25/60\n",
            "Época: 3/4, batch: 26/60\n",
            "Época: 3/4, batch: 27/60\n",
            "Época: 3/4, batch: 28/60\n",
            "Época: 3/4, batch: 29/60\n",
            "Época: 3/4, batch: 30/60\n",
            "Época: 3/4, batch: 31/60\n",
            "Época: 3/4, batch: 32/60\n",
            "Época: 3/4, batch: 33/60\n",
            "Época: 3/4, batch: 34/60\n",
            "Época: 3/4, batch: 35/60\n",
            "Época: 3/4, batch: 36/60\n",
            "Época: 3/4, batch: 37/60\n",
            "Época: 3/4, batch: 38/60\n",
            "Época: 3/4, batch: 39/60\n",
            "Época: 3/4, batch: 40/60\n",
            "Época: 3/4, batch: 41/60\n",
            "Época: 3/4, batch: 42/60\n",
            "Época: 3/4, batch: 43/60\n",
            "Época: 3/4, batch: 44/60\n",
            "Época: 3/4, batch: 45/60\n",
            "Época: 3/4, batch: 46/60\n",
            "Época: 3/4, batch: 47/60\n",
            "Época: 3/4, batch: 48/60\n",
            "Época: 3/4, batch: 49/60\n",
            "Época: 3/4, batch: 50/60\n",
            "Época: 3/4, batch: 51/60\n",
            "Época: 3/4, batch: 52/60\n",
            "Época: 3/4, batch: 53/60\n",
            "Época: 3/4, batch: 54/60\n",
            "Época: 3/4, batch: 55/60\n",
            "Época: 3/4, batch: 56/60\n",
            "Época: 3/4, batch: 57/60\n",
            "Época: 3/4, batch: 58/60\n",
            "Época: 3/4, batch: 59/60\n",
            "Época: 4/4, batch: 0/60\n",
            "Época: 4/4, batch: 1/60\n",
            "Época: 4/4, batch: 2/60\n",
            "Época: 4/4, batch: 3/60\n",
            "Época: 4/4, batch: 4/60\n",
            "Época: 4/4, batch: 5/60\n",
            "Época: 4/4, batch: 6/60\n",
            "Época: 4/4, batch: 7/60\n",
            "Época: 4/4, batch: 8/60\n",
            "Época: 4/4, batch: 9/60\n",
            "Época: 4/4, batch: 10/60\n",
            "Época: 4/4, batch: 11/60\n",
            "Época: 4/4, batch: 12/60\n",
            "Época: 4/4, batch: 13/60\n",
            "Época: 4/4, batch: 14/60\n",
            "Época: 4/4, batch: 15/60\n",
            "Época: 4/4, batch: 16/60\n",
            "Época: 4/4, batch: 17/60\n",
            "Época: 4/4, batch: 18/60\n",
            "Época: 4/4, batch: 19/60\n",
            "Época: 4/4, batch: 20/60\n",
            "Época: 4/4, batch: 21/60\n",
            "Época: 4/4, batch: 22/60\n",
            "Época: 4/4, batch: 23/60\n",
            "Época: 4/4, batch: 24/60\n",
            "Época: 4/4, batch: 25/60\n",
            "Época: 4/4, batch: 26/60\n",
            "Época: 4/4, batch: 27/60\n",
            "Época: 4/4, batch: 28/60\n",
            "Época: 4/4, batch: 29/60\n",
            "Época: 4/4, batch: 30/60\n",
            "Época: 4/4, batch: 31/60\n",
            "Época: 4/4, batch: 32/60\n",
            "Época: 4/4, batch: 33/60\n",
            "Época: 4/4, batch: 34/60\n",
            "Época: 4/4, batch: 35/60\n",
            "Época: 4/4, batch: 36/60\n",
            "Época: 4/4, batch: 37/60\n",
            "Época: 4/4, batch: 38/60\n",
            "Época: 4/4, batch: 39/60\n",
            "Época: 4/4, batch: 40/60\n",
            "Época: 4/4, batch: 41/60\n",
            "Época: 4/4, batch: 42/60\n",
            "Época: 4/4, batch: 43/60\n",
            "Época: 4/4, batch: 44/60\n",
            "Época: 4/4, batch: 45/60\n",
            "Época: 4/4, batch: 46/60\n",
            "Época: 4/4, batch: 47/60\n",
            "Época: 4/4, batch: 48/60\n",
            "Época: 4/4, batch: 49/60\n",
            "Época: 4/4, batch: 50/60\n",
            "Época: 4/4, batch: 51/60\n",
            "Época: 4/4, batch: 52/60\n",
            "Época: 4/4, batch: 53/60\n",
            "Época: 4/4, batch: 54/60\n",
            "Época: 4/4, batch: 55/60\n",
            "Época: 4/4, batch: 56/60\n",
            "Época: 4/4, batch: 57/60\n",
            "Época: 4/4, batch: 58/60\n",
            "Época: 4/4, batch: 59/60\n"
          ]
        }
      ],
      "source": [
        "epochs = []\n",
        "losses = []\n",
        "\n",
        "total_trained_samples = 0\n",
        "for i in range(n_epochs):\n",
        "    for k,(x_train, y_train) in enumerate(loader_train):\n",
        "        # Transforma a entrada para uma dimensão\n",
        "        inputs = Variable(x_train.view(-1, 28 * 28))\n",
        "        # predict da rede\n",
        "        outputs = model(inputs)\n",
        "\n",
        "        # calcula a perda\n",
        "        loss = criterion(outputs, Variable(y_train))\n",
        "\n",
        "        # zero, backpropagation, ajusta parâmetros pelo gradiente descendente\n",
        "        optimizer.zero_grad()\n",
        "        loss.backward()\n",
        "        optimizer.step()\n",
        "\n",
        "        total_trained_samples += x_train.size(0)\n",
        "        epochs.append(total_trained_samples / total_samples)\n",
        "        losses.append(loss.data)\n",
        "        print(f'Época: {i}/{n_epochs - 1}, batch: {k}/{len(loader_train)}')"
      ]
    },
    {
      "cell_type": "markdown",
      "source": [
        "Época: 1/4, batch: 600"
      ],
      "metadata": {
        "id": "sHM6-XWAb0M4"
      }
    },
    {
      "cell_type": "code",
      "execution_count": 37,
      "metadata": {
        "ExecuteTime": {
          "end_time": "2017-11-24T22:39:50.992302Z",
          "start_time": "2017-11-24T22:39:50.987284Z"
        },
        "colab": {
          "base_uri": "https://localhost:8080/"
        },
        "id": "aYO4bgVwl-fT",
        "outputId": "567ccf6e-1c0c-4caa-a5a9-f757101877ba"
      },
      "outputs": [
        {
          "output_type": "stream",
          "name": "stdout",
          "text": [
            "Final loss: tensor(0.2583)\n"
          ]
        }
      ],
      "source": [
        "print('Final loss:', loss.data)"
      ]
    },
    {
      "cell_type": "markdown",
      "metadata": {
        "id": "XEhPdkjAl-fX"
      },
      "source": [
        "### Visualizando gráfico de perda durante o treinamento"
      ]
    },
    {
      "cell_type": "code",
      "execution_count": 27,
      "metadata": {
        "ExecuteTime": {
          "end_time": "2017-11-24T22:39:51.244869Z",
          "start_time": "2017-11-24T22:39:50.995188Z"
        },
        "colab": {
          "base_uri": "https://localhost:8080/",
          "height": 467
        },
        "id": "_fSYP_KXl-fY",
        "outputId": "0ad0d671-0d67-4bc0-ce78-18ca4c2591a2"
      },
      "outputs": [
        {
          "output_type": "execute_result",
          "data": {
            "text/plain": [
              "Text(0.5, 0, 'época')"
            ]
          },
          "metadata": {},
          "execution_count": 27
        },
        {
          "output_type": "display_data",
          "data": {
            "text/plain": [
              "<Figure size 640x480 with 1 Axes>"
            ],
            "image/png": "[encoded data removed]"
          },
          "metadata": {}
        }
      ],
      "source": [
        "plt.plot(epochs, losses)\n",
        "plt.xlabel('época')"
      ]
    },
    {
      "cell_type": "markdown",
      "metadata": {
        "id": "eNyGHxAtl-fc"
      },
      "source": [
        "### Visualização usual da perda, somente no final de cada minibatch"
      ]
    },
    {
      "cell_type": "code",
      "execution_count": 28,
      "metadata": {
        "ExecuteTime": {
          "end_time": "2017-11-24T22:39:51.498640Z",
          "start_time": "2017-11-24T22:39:51.246714Z"
        },
        "colab": {
          "base_uri": "https://localhost:8080/",
          "height": 467
        },
        "id": "e2J2aZZVl-fd",
        "outputId": "815d373c-406d-4bd9-f361-fe8cdb6d59f3"
      },
      "outputs": [
        {
          "output_type": "execute_result",
          "data": {
            "text/plain": [
              "Text(0.5, 0, 'época')"
            ]
          },
          "metadata": {},
          "execution_count": 28
        },
        {
          "output_type": "display_data",
          "data": {
            "text/plain": [
              "<Figure size 640x480 with 1 Axes>"
            ],
            "image/png": "[encoded data removed]"
          },
          "metadata": {}
        }
      ],
      "source": [
        "plt.plot(epochs[:5 * n_batches_train +1:n_batches_train], losses[:5 * n_batches_train+1:n_batches_train])\n",
        "plt.xlabel('época')"
      ]
    },
    {
      "cell_type": "markdown",
      "metadata": {
        "id": "eHLCXNLml-fg"
      },
      "source": [
        "# Atividades"
      ]
    },
    {
      "cell_type": "markdown",
      "metadata": {
        "id": "ZCs38MOml-fh"
      },
      "source": [
        "## Perguntas"
      ]
    },
    {
      "cell_type": "markdown",
      "metadata": {
        "id": "Ffg58gb7l-fi"
      },
      "source": [
        "1. Qual é o tamanho do mini-batch?\n",
        "2. Em uma época, quantos mini-batches existem?\n",
        "3. Qual é a definição de época?"
      ]
    },
    {
      "cell_type": "markdown",
      "metadata": {
        "id": "DourBpfrl-fl"
      },
      "source": [
        "## Exercícios\n"
      ]
    },
    {
      "cell_type": "markdown",
      "metadata": {
        "id": "Vjh3AaNpl-fn"
      },
      "source": [
        "1. Coloque um print no final de cada minibatch, no mesmo estilo do print do final de época, no seguinte estilo:\n",
        "    - Época: 1/4, batch: 600\n",
        "2. Altere o tamanho de minibatch (batch_size) algumas vezes, refaça o treinamento, e compare no gráfico abaixo a queda da perda para cada tamanho de minibatch."
      ]
    },
    {
      "cell_type": "markdown",
      "metadata": {
        "id": "Dite8MBJl-fn"
      },
      "source": [
        "## Conclusões sobre os experimentos deste notebook\n"
      ]
    }
  ],
  "metadata": {
    "accelerator": "GPU",
    "colab": {
      "provenance": [],
      "gpuType": "T4"
    },
    "kernelspec": {
      "display_name": "Python 3",
      "name": "python3"
    },
    "language_info": {
      "name": "python",
      "version": "3.10.2"
    },
    "vscode": {
      "interpreter": {
        "hash": "5fe3e6f0cdaab8afdc61c52912fda83f7c0a71baaea1897dd7498e2df01e69ec"
      }
    }
  },
  "nbformat": 4,
  "nbformat_minor": 0
}